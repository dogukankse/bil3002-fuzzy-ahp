{
 "cells": [
  {
   "cell_type": "code",
   "execution_count": 26,
   "metadata": {},
   "outputs": [],
   "source": [
    "import numpy as np\n",
    "file_path_1 = \"./Wang et al_2008.prj\"\n",
    "file_path_2 = \"./Tyagi et al_2017.prj\""
   ]
  },
  {
   "cell_type": "code",
   "execution_count": 27,
   "metadata": {},
   "outputs": [],
   "source": [
    "#parse işlemleri başladı\n",
    "file_text = []\n",
    "with open(file_path_1) as file:\n",
    "    file_text = list(map(lambda x: x.replace(\"\\n\",\"\"), file.readlines()))"
   ]
  },
  {
   "cell_type": "code",
   "execution_count": 28,
   "metadata": {},
   "outputs": [],
   "source": [
    "altenative_count = int(file_text[0])\n",
    "altenative_names = []\n",
    "for line in file_text[1:altenative_count+1]:\n",
    "    altenative_names.append(line)\n",
    "last_index = altenative_count+1"
   ]
  },
  {
   "cell_type": "code",
   "execution_count": 29,
   "metadata": {},
   "outputs": [],
   "source": [
    "lines = file_text[altenative_count+1:]\n",
    "title_indexes = []\n",
    "for index,line in enumerate(lines):\n",
    "    if line.count(\";\") == 1:\n",
    "        title_indexes.append(index)\n",
    "title_indexes.append(len(lines))        \n",
    "#parse işlemleri bitti"
   ]
  },
  {
   "cell_type": "code",
   "execution_count": null,
   "metadata": {},
   "outputs": [],
   "source": [
    "matrixes = []\n",
    "for index,i in enumerate(title_indexes):\n",
    "    if i > 0:\n",
    "        matrixes.append(lines[title_indexes[index-1]:i])   \n",
    "for matrix in matrixes:\n",
    "    for index,elm in enumerate(matrix):\n",
    "        if elm.count(\";\") > 1:\n",
    "            matrix[index] = list(map(lambda x: [float(i) for i in list(x.split(\" \"))],elm.split(\";\")))"
   ]
  },
  {
   "cell_type": "code",
   "execution_count": 6,
   "metadata": {},
   "outputs": [],
   "source": [
    "#dosyadan okunanları düzenleyip bir diziye atar\n",
    "matrix_groups = []\n",
    "for index,matrix in enumerate(matrixes):\n",
    "    if index == 0:\n",
    "        continue\n",
    "    if int(matrix[0].split(\";\")[1]) > 0:    \n",
    "        t = matrixes[index:index + int(matrix[0].split(\";\")[1])+1]\n",
    "        matrix_groups.append(t)"
   ]
  },
  {
   "cell_type": "code",
   "execution_count": 7,
   "metadata": {},
   "outputs": [],
   "source": [
    "#üçgensel üyeliklere sahip matrisin verilen satır toplamını alır\n",
    "def sumTriRow(row,index):\n",
    "    s = 0\n",
    "    for i in row:\n",
    "        s= s+i[index]\n",
    "    return s\n",
    "\n",
    "#matrisin transpozunu alır\n",
    "def transpose(l):\n",
    "    return list(map(list, zip(*l)))"
   ]
  },
  {
   "cell_type": "code",
   "execution_count": 8,
   "metadata": {},
   "outputs": [],
   "source": [
    "#verilen matrisin tüm satır roplamını alır (RSi)\n",
    "def sumTriRows(matrix):\n",
    "    srows = []\n",
    "    for row in matrix:\n",
    "        r = []\n",
    "        for i in range(3):\n",
    "            r.append(sumTriRow(row,i))\n",
    "        srows.append(r)\n",
    "    return srows"
   ]
  },
  {
   "cell_type": "code",
   "execution_count": 16,
   "metadata": {},
   "outputs": [],
   "source": [
    "#üçgensel sayılarda verilenin (l, m, u) toplamını alır\n",
    "def sumL(l):\n",
    "    s = 0;\n",
    "    for i in l:\n",
    "        s = s + i\n",
    "    return s\n",
    "\n",
    "#matrisin verilen index harici satır toplamını alır\n",
    "def sumTriRowsWithoutIndex(matrix,lmu,withoutindex):\n",
    "    srows = []\n",
    "    for index,row in enumerate(matrix):\n",
    "        if index == withoutindex:\n",
    "            continue\n",
    "        srows.append(sumTriRow(row,lmu))\n",
    "    return sumL(srows)\n",
    "\n",
    "\n",
    "#verilen üst ve alt matrislere göre ağırlıklar hesaplanır\n",
    "def calcPriorityWeight(parent_weight,childs_weights):\n",
    "    kk =[]\n",
    "    for i in childs_weights:\n",
    "        k =0\n",
    "        for j_index,j in enumerate(i):\n",
    "            k+=(i[j_index]*parent_weight[j_index])\n",
    "        kk.append(k)\n",
    "        k=0\n",
    "    return kk"
   ]
  },
  {
   "cell_type": "code",
   "execution_count": 17,
   "metadata": {},
   "outputs": [],
   "source": [
    "#amaç matrisini döndürür\n",
    "def aim():\n",
    "    return matrixes[0][1:]"
   ]
  },
  {
   "cell_type": "code",
   "execution_count": 18,
   "metadata": {},
   "outputs": [],
   "source": [
    "#verilen matrisin Si'lerini hesaplar\n",
    "def calcSi(matrix):\n",
    "    rsi = sumTriRows(matrix)\n",
    "    calc = []\n",
    "    for index,i in enumerate(rsi):\n",
    "        c = []\n",
    "        for jindex,s in enumerate(i):\n",
    "            if jindex == 0:\n",
    "                #print(s,sumTriRowsWithoutIndex(a,2,index))\n",
    "                v = s/(s+sumTriRowsWithoutIndex(matrix,2,index))\n",
    "                c.append(v)\n",
    "            elif jindex == 1:\n",
    "                #print(s,sumTriRowsWithoutIndex(a,1,index))\n",
    "                v = s/(s+sumTriRowsWithoutIndex(matrix,1,index))\n",
    "                c.append(v)\n",
    "            elif jindex == 2:\n",
    "                #print(s,sumTriRowsWithoutIndex(a,0,index))\n",
    "                v = s/(s+sumTriRowsWithoutIndex(matrix,0,index))\n",
    "                c.append(v)\n",
    "             #print(s/(s+sumTriRowsWithoutIndex(a,0,index)))\n",
    "        calc.append(c)\n",
    "    return calc"
   ]
  },
  {
   "cell_type": "code",
   "execution_count": 19,
   "metadata": {},
   "outputs": [],
   "source": [
    "#verilen iki matrisi karşılaştırır\n",
    "def calcW(A,B):\n",
    "    if A[1] >= B[1]:\n",
    "        return 1\n",
    "    elif B[0] <= A[2]:\n",
    "        return (A[2] - B[0])/((A[2]-A[1])+(B[1]-B[0]))\n",
    "    else:\n",
    "        return 0\n",
    "\n",
    "#ağırlıkları normalize eder\n",
    "def normalize(l):\n",
    "    s = sumL(l)\n",
    "    n = []\n",
    "    for i in l:\n",
    "        n.append(i/s)\n",
    "    return n\n"
   ]
  },
  {
   "cell_type": "code",
   "execution_count": 20,
   "metadata": {},
   "outputs": [],
   "source": [
    "#karılaştırma vektörlerinde minleri seçerek ve değerler normalize edilerek ağırlık vektörleri oluşturulur\n",
    "def calcAllW(matrix):\n",
    "    si=calcSi(matrix)\n",
    "    calc = []\n",
    "    for i in range(len(si)):\n",
    "        c = []\n",
    "        for j in range(len(si)):\n",
    "            if i != j:\n",
    "                c.append(calcW(si[i],si[j]))\n",
    "        calc.append(min(c))\n",
    "    calc = normalize(calc)\n",
    "    return calc"
   ]
  },
  {
   "cell_type": "code",
   "execution_count": 21,
   "metadata": {},
   "outputs": [],
   "source": [
    "#tüm matrisler için ağırlıklar hesaplanır\n",
    "matrixes_weighted = {}\n",
    "for matrix in matrixes:\n",
    "    k = calcAllW(matrix[1:])\n",
    "    matrixes_weighted[matrix[0]] = k[0]\n",
    "\n",
    "#alt matrisler alınır\n",
    "for key,value in matrixes_weighted.items():\n",
    "    if key.split(\";\")[1] == '0':\n",
    "        matrixes_weighted[key] = matrixes_weighted[key]"
   ]
  },
  {
   "cell_type": "code",
   "execution_count": 22,
   "metadata": {},
   "outputs": [],
   "source": [
    "#alt matrisler ile üst matrislerin ağırlıkları arasında gerekli işlemler yapılarak\n",
    "#sonuç ağırlıklar bulunur\n",
    "priority_weights = []\n",
    "for matrix_group in matrix_groups:\n",
    "    merged = []\n",
    "    for matrix in matrix_group:\n",
    "        k = calcAllW(matrix[1:])\n",
    "        merged.append(k)\n",
    "    f = merged[0]\n",
    "    del merged[0]\n",
    "    merged = transpose(merged)\n",
    "    kk = calcPriorityWeight(f,merged)\n",
    "    priority_weights.append(kk)  "
   ]
  },
  {
   "cell_type": "code",
   "execution_count": 23,
   "metadata": {},
   "outputs": [],
   "source": [
    "priority_weights = transpose(priority_weights)"
   ]
  },
  {
   "cell_type": "code",
   "execution_count": 24,
   "metadata": {},
   "outputs": [],
   "source": [
    "aim_weights = calcAllW(aim())"
   ]
  },
  {
   "cell_type": "code",
   "execution_count": 25,
   "metadata": {},
   "outputs": [
    {
     "data": {
      "text/plain": [
       "[0.0, 0.8371779349193603, 0.16282206508063968]"
      ]
     },
     "execution_count": 25,
     "metadata": {},
     "output_type": "execute_result"
    }
   ],
   "source": [
    "calcPriorityWeight(aim_weights,priority_weights)"
   ]
  }
 ],
 "metadata": {
  "kernelspec": {
   "display_name": "Python 3",
   "language": "python",
   "name": "python3"
  },
  "language_info": {
   "codemirror_mode": {
    "name": "ipython",
    "version": 3
   },
   "file_extension": ".py",
   "mimetype": "text/x-python",
   "name": "python",
   "nbconvert_exporter": "python",
   "pygments_lexer": "ipython3",
   "version": "3.7.3"
  }
 },
 "nbformat": 4,
 "nbformat_minor": 2
}
