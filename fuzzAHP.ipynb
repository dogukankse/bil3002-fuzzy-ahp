{
 "cells": [
  {
   "cell_type": "code",
   "execution_count": 97,
   "metadata": {},
   "outputs": [],
   "source": [
    "file_path_1 = \"./Wang et al_2008.prj\"\n",
    "file_path_2 = \"./Tyagi et al_2017.prj\""
   ]
  },
  {
   "cell_type": "code",
   "execution_count": 98,
   "metadata": {},
   "outputs": [],
   "source": [
    "file_text = []\n",
    "with open(file_path_1) as file:\n",
    "    file_text = file.readlines()"
   ]
  },
  {
   "cell_type": "code",
   "execution_count": 99,
   "metadata": {},
   "outputs": [],
   "source": [
    "altenative_count = int(file_text[0])\n",
    "altenative_names = []\n",
    "for line in file_text[1:altenative_count+1]:\n",
    "    altenative_names.append(line)\n",
    "last_index = altenative_count+1"
   ]
  },
  {
   "cell_type": "code",
   "execution_count": 100,
   "metadata": {},
   "outputs": [
    {
     "data": {
      "text/plain": [
       "['G', '3']"
      ]
     },
     "execution_count": 100,
     "metadata": {},
     "output_type": "execute_result"
    }
   ],
   "source": [
    "p_name = file_text[last_index].replace(\"\\n\",\"\").split(\";\")\n",
    "p_name"
   ]
  },
  {
   "cell_type": "code",
   "execution_count": 101,
   "metadata": {},
   "outputs": [
    {
     "data": {
      "text/plain": [
       "{'G': []}"
      ]
     },
     "execution_count": 101,
     "metadata": {},
     "output_type": "execute_result"
    }
   ],
   "source": [
    "di = {\"\"+p_name[0]:[]}\n",
    "di"
   ]
  },
  {
   "cell_type": "code",
   "execution_count": 136,
   "metadata": {},
   "outputs": [],
   "source": [
    "di = {\"\"+p_name[0]:[]}\n",
    "for i in range(1,int(p_name[1])+1):\n",
    "    k = []\n",
    "    for j in file_text[last_index+i].replace(\"\\n\",\"\").split(\";\"):\n",
    "        k.append(j.split(\" \"))\n",
    "    di[p_name[0]].append(k)\n",
    "#son işlenen index \n",
    "#bir sonraki işlem için +1'inden başlanması gerekiyor\n",
    "last_index = altenative_count+1+int(p_name[1])"
   ]
  },
  {
   "cell_type": "code",
   "execution_count": 137,
   "metadata": {},
   "outputs": [
    {
     "name": "stdout",
     "output_type": "stream",
     "text": [
      "{'G': [[['1', '1', '1'], ['1.5', '2', '2.5'], ['1.5', '2', '2.5']], [['0.4', '0.5', '0.667'], ['1', '1', '1'], ['0.667', '1', '1.5']], [['0.4', '0.5', '0.667'], ['0.667', '1', '1.5'], ['1', '1', '1']]]} 7\n",
      "2.5 3 3.5;1.5 2 2.5;1 1 1\n",
      "\n"
     ]
    }
   ],
   "source": [
    "print(di,last_index)\n",
    "print(file_text[last_index])"
   ]
  },
  {
   "cell_type": "code",
   "execution_count": null,
   "metadata": {},
   "outputs": [],
   "source": []
  }
 ],
 "metadata": {
  "kernelspec": {
   "display_name": "Python 3",
   "language": "python",
   "name": "python3"
  },
  "language_info": {
   "codemirror_mode": {
    "name": "ipython",
    "version": 3
   },
   "file_extension": ".py",
   "mimetype": "text/x-python",
   "name": "python",
   "nbconvert_exporter": "python",
   "pygments_lexer": "ipython3",
   "version": "3.7.3"
  }
 },
 "nbformat": 4,
 "nbformat_minor": 2
}
