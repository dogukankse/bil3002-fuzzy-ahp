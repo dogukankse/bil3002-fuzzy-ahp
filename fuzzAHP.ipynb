{
 "cells": [
  {
   "cell_type": "code",
   "execution_count": 313,
   "metadata": {},
   "outputs": [],
   "source": [
    "import numpy as np\n",
    "file_path_1 = \"./Wang et al_2008.prj\"\n",
    "file_path_2 = \"./Tyagi et al_2017.prj\""
   ]
  },
  {
   "cell_type": "code",
   "execution_count": null,
   "metadata": {},
   "outputs": [],
   "source": []
  },
  {
   "cell_type": "code",
   "execution_count": 356,
   "metadata": {},
   "outputs": [],
   "source": [
    "file_text = []\n",
    "with open(file_path_2) as file:\n",
    "    file_text = list(map(lambda x: x.replace(\"\\n\",\"\"), file.readlines()))"
   ]
  },
  {
   "cell_type": "code",
   "execution_count": 357,
   "metadata": {},
   "outputs": [],
   "source": [
    "altenative_count = int(file_text[0])\n",
    "altenative_names = []\n",
    "for line in file_text[1:altenative_count+1]:\n",
    "    altenative_names.append(line)\n",
    "last_index = altenative_count+1"
   ]
  },
  {
   "cell_type": "code",
   "execution_count": 358,
   "metadata": {},
   "outputs": [],
   "source": [
    "lines = file_text[altenative_count+1:]\n",
    "title_indexes = []\n",
    "for index,line in enumerate(lines):\n",
    "    if line.count(\";\") == 1:\n",
    "        title_indexes.append(index)\n",
    "title_indexes.append(len(lines))        "
   ]
  },
  {
   "cell_type": "code",
   "execution_count": 371,
   "metadata": {},
   "outputs": [],
   "source": [
    "matrixes = []\n",
    "for index,i in enumerate(title_indexes):\n",
    "    if i > 0:\n",
    "        matrixes.append(lines[title_indexes[index-1]:i])   \n",
    "for matrix in matrixes:\n",
    "    for index,elm in enumerate(matrix):\n",
    "        if elm.count(\";\") > 1:\n",
    "            matrix[index] = list(map(lambda x: [float(i) for i in list(x.split(\" \"))],elm.split(\";\")))"
   ]
  },
  {
   "cell_type": "code",
   "execution_count": 372,
   "metadata": {},
   "outputs": [
    {
     "name": "stdout",
     "output_type": "stream",
     "text": [
      "['I;4', [[1.0, 1.0, 1.0], [0.111, 0.111, 0.111], [0.167, 0.2, 0.25], [0.111, 0.111, 0.111]], [[9.0, 9.0, 9.0], [1.0, 1.0, 1.0], [4.0, 5.0, 6.0], [1.0, 1.0, 1.0]], [[4.0, 5.0, 6.0], [0.167, 0.2, 0.25], [1.0, 1.0, 1.0], [2.0, 3.0, 4.0]], [[9.0, 9.0, 9.0], [1.0, 1.0, 1.0], [0.25, 0.333, 0.5], [1.0, 1.0, 1.0]]] \n",
      "\n",
      "['IE;0', [[1.0, 1.0, 1.0], [0.125, 0.143, 0.167], [4.0, 5.0, 6.0], [1.0, 1.0, 1.0]], [[6.0, 7.0, 8.0], [1.0, 1.0, 1.0], [0.125, 0.143, 0.167], [0.167, 0.2, 0.25]], [[0.167, 0.2, 0.25], [6.0, 7.0, 8.0], [1.0, 1.0, 1.0], [0.167, 0.2, 0.25]], [[1.0, 1.0, 1.0], [4.0, 5.0, 6.0], [4.0, 5.0, 6.0], [1.0, 1.0, 1.0]]] \n",
      "\n",
      "['CH;0', [[1.0, 1.0, 1.0], [0.125, 0.143, 0.167], [0.25, 0.333, 0.5], [2.0, 3.0, 4.0]], [[6.0, 7.0, 8.0], [1.0, 1.0, 1.0], [0.125, 0.143, 0.167], [1.0, 1.0, 1.0]], [[2.0, 3.0, 4.0], [6.0, 7.0, 8.0], [1.0, 1.0, 1.0], [4.0, 5.0, 6.0]], [[0.25, 0.333, 0.5], [1.0, 1.0, 1.0], [0.167, 0.2, 0.25], [1.0, 1.0, 1.0]]] \n",
      "\n",
      "['CF;0', [[1.0, 1.0, 1.0], [0.25, 0.333, 0.5], [0.125, 0.143, 0.167], [1.0, 1.0, 1.0]], [[2.0, 3.0, 4.0], [1.0, 1.0, 1.0], [1.0, 1.0, 1.0], [4.0, 5.0, 6.0]], [[6.0, 7.0, 8.0], [1.0, 1.0, 1.0], [1.0, 1.0, 1.0], [4.0, 5.0, 6.0]], [[1.0, 1.0, 1.0], [0.167, 0.2, 0.25], [0.167, 0.2, 0.25], [1.0, 1.0, 1.0]]] \n",
      "\n",
      "['IS;0', [[1.0, 1.0, 1.0], [0.25, 0.333, 0.5], [0.125, 0.143, 0.167], [0.25, 0.333, 0.5]], [[4.0, 5.0, 6.0], [1.0, 1.0, 1.0], [0.25, 0.33, 0.5], [4.0, 5.0, 6.0]], [[6.0, 7.0, 8.0], [2.0, 3.0, 4.0], [1.0, 1.0, 1.0], [2.0, 3.0, 4.0]], [[2.0, 3.0, 4.0], [0.167, 0.2, 0.25], [0.25, 0.333, 0.5], [1.0, 1.0, 1.0]]] \n",
      "\n"
     ]
    }
   ],
   "source": [
    "matrix_groups = []\n",
    "for index,matrix in enumerate(matrixes):\n",
    "    if index == 0:\n",
    "        continue\n",
    "    if int(matrix[0].split(\";\")[1]) > 0:    \n",
    "        t = matrixes[index:index + int(matrix[0].split(\";\")[1])+1]\n",
    "        matrix_groups.append(t)\n",
    "        if t[0][0] == \"I;4\":\n",
    "            for k in t:\n",
    "                print(k,\"\\n\")"
   ]
  },
  {
   "cell_type": "code",
   "execution_count": 373,
   "metadata": {},
   "outputs": [
    {
     "data": {
      "text/plain": [
       "[['FD;3',\n",
       "  [[1.0, 1.0, 1.0], [4.0, 5.0, 6.0], [6.0, 7.0, 8.0]],\n",
       "  [[0.167, 0.2, 0.25], [1.0, 1.0, 1.0], [4.0, 5.0, 6.0]],\n",
       "  [[0.125, 0.143, 0.167], [0.167, 0.2, 0.25], [1.0, 1.0, 1.0]]],\n",
       " ['DD;0',\n",
       "  [[1.0, 1.0, 1.0], [0.25, 0.33, 0.5], [0.125, 0.143, 0.167], [2.0, 3.0, 4.0]],\n",
       "  [[2.0, 3.0, 4.0], [1.0, 1.0, 1.0], [1.0, 1.0, 1.0], [4.0, 5.0, 6.0]],\n",
       "  [[6.0, 7.0, 8.0], [1.0, 1.0, 1.0], [1.0, 1.0, 1.0], [4.0, 5.0, 6.0]],\n",
       "  [[0.25, 0.33, 0.5],\n",
       "   [0.167, 0.2, 0.25],\n",
       "   [0.167, 0.2, 0.25],\n",
       "   [1.0, 1.0, 1.0]]],\n",
       " ['SD;0',\n",
       "  [[1.0, 1.0, 1.0], [1.0, 1.0, 1.0], [0.125, 0.143, 0.167], [1.0, 1.0, 1.0]],\n",
       "  [[1.0, 1.0, 1.0], [1.0, 1.0, 1.0], [0.125, 0.143, 0.167], [4.0, 5.0, 6.0]],\n",
       "  [[6.0, 7.0, 8.0], [6.0, 7.0, 8.0], [1.0, 1.0, 1.0], [6.0, 7.0, 8.0]],\n",
       "  [[1.0, 1.0, 1.0],\n",
       "   [0.167, 0.2, 0.25],\n",
       "   [0.125, 0.143, 0.167],\n",
       "   [1.0, 1.0, 1.0]]],\n",
       " ['PF;0',\n",
       "  [[1.0, 1.0, 1.0],\n",
       "   [2.0, 3.0, 4.0],\n",
       "   [0.125, 0.143, 0.167],\n",
       "   [0.167, 0.2, 0.25]],\n",
       "  [[0.25, 0.333, 0.5],\n",
       "   [1.0, 1.0, 1.0],\n",
       "   [0.125, 0.143, 0.167],\n",
       "   [0.125, 0.143, 0.167]],\n",
       "  [[6.0, 7.0, 8.0], [6.0, 7.0, 8.0], [1.0, 1.0, 1.0], [2.0, 3.0, 4.0]],\n",
       "  [[4.0, 5.0, 6.0], [6.0, 7.0, 8.0], [0.25, 0.333, 0.5], [1.0, 1.0, 1.0]]]]"
      ]
     },
     "execution_count": 373,
     "metadata": {},
     "output_type": "execute_result"
    }
   ],
   "source": [
    "matrix_groups[0]"
   ]
  },
  {
   "cell_type": "code",
   "execution_count": 362,
   "metadata": {},
   "outputs": [],
   "source": [
    "#Kriter matrisinde her bir üçgensel sayıları topluyoruz\n",
    "# V = [Zl,Zm,Zu]\n",
    "# Sutunlari topluyoruz. Tek bir üçgensel sayı çıkıcak"
   ]
  },
  {
   "cell_type": "code",
   "execution_count": 363,
   "metadata": {},
   "outputs": [],
   "source": [
    "def sumRow(m):\n",
    "    a = 0\n",
    "    b = 0\n",
    "    c = 0\n",
    "    for i in m:\n",
    "        print(i[0])\n",
    "            "
   ]
  },
  {
   "cell_type": "code",
   "execution_count": 392,
   "metadata": {},
   "outputs": [
    {
     "name": "stdout",
     "output_type": "stream",
     "text": [
      "[[1.0, 1.0, 1.0], [4.0, 5.0, 6.0], [6.0, 7.0, 8.0]]\n",
      "[[0.167, 0.2, 0.25], [1.0, 1.0, 1.0], [4.0, 5.0, 6.0]]\n",
      "[[0.125, 0.143, 0.167], [0.167, 0.2, 0.25], [1.0, 1.0, 1.0]]\n"
     ]
    }
   ],
   "source": []
  },
  {
   "cell_type": "code",
   "execution_count": 377,
   "metadata": {},
   "outputs": [
    {
     "data": {
      "text/plain": [
       "[[[1.0, 1.0, 1.0], [4.0, 5.0, 6.0], [6.0, 7.0, 8.0]],\n",
       " [[0.167, 0.2, 0.25], [1.0, 1.0, 1.0], [4.0, 5.0, 6.0]],\n",
       " [[0.125, 0.143, 0.167], [0.167, 0.2, 0.25], [1.0, 1.0, 1.0]]]"
      ]
     },
     "execution_count": 377,
     "metadata": {},
     "output_type": "execute_result"
    }
   ],
   "source": []
  },
  {
   "cell_type": "code",
   "execution_count": null,
   "metadata": {},
   "outputs": [],
   "source": []
  }
 ],
 "metadata": {
  "kernelspec": {
   "display_name": "Python 3",
   "language": "python",
   "name": "python3"
  },
  "language_info": {
   "codemirror_mode": {
    "name": "ipython",
    "version": 3
   },
   "file_extension": ".py",
   "mimetype": "text/x-python",
   "name": "python",
   "nbconvert_exporter": "python",
   "pygments_lexer": "ipython3",
   "version": "3.7.3"
  }
 },
 "nbformat": 4,
 "nbformat_minor": 2
}
